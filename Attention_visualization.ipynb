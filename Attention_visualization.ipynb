{
 "cells": [
  {
   "cell_type": "code",
   "execution_count": 1,
   "metadata": {},
   "outputs": [],
   "source": [
    "import numpy as np\n",
    "from rdkit import Chem\n",
    "from rdkit.Chem import Descriptors\n",
    "\n",
    "num_atom_feat = 34\n",
    "def one_of_k_encoding(x, allowable_set):\n",
    "    if x not in allowable_set:\n",
    "        raise Exception(\"input {0} not in allowable set{1}:\".format(\n",
    "            x, allowable_set))\n",
    "    return [x == s for s in allowable_set]\n",
    "\n",
    "\n",
    "def one_of_k_encoding_unk(x, allowable_set):\n",
    "    \"\"\"Maps inputs not in the allowable set to the last element.\"\"\"\n",
    "    if x not in allowable_set:\n",
    "        x = allowable_set[-1]\n",
    "    return [x == s for s in allowable_set]\n",
    "\n",
    "\n",
    "def atom_features(atom,explicit_H=False,use_chirality=True):\n",
    "    \"\"\"Generate atom features including atom symbol(10),degree(7),formal charge,\n",
    "    radical electrons,hybridization(6),aromatic(1),Chirality(3)\n",
    "    \"\"\"\n",
    "    symbol = ['C', 'N', 'O', 'F', 'P', 'S', 'Cl', 'Br', 'I', 'other']  # 10-dim\n",
    "    degree = [0, 1, 2, 3, 4, 5, 6]  # 7-dim\n",
    "    hybridizationType = [Chem.rdchem.HybridizationType.SP,\n",
    "                              Chem.rdchem.HybridizationType.SP2,\n",
    "                              Chem.rdchem.HybridizationType.SP3,\n",
    "                              Chem.rdchem.HybridizationType.SP3D,\n",
    "                              Chem.rdchem.HybridizationType.SP3D2,\n",
    "                              'other']   # 6-dim\n",
    "    results = one_of_k_encoding_unk(atom.GetSymbol(),symbol) + \\\n",
    "                  one_of_k_encoding(atom.GetDegree(),degree) + \\\n",
    "                  [atom.GetFormalCharge(), atom.GetNumRadicalElectrons()] + \\\n",
    "                  one_of_k_encoding_unk(atom.GetHybridization(), hybridizationType) + [atom.GetIsAromatic()]  # 10+7+2+6+1=26\n",
    "\n",
    "    # In case of explicit hydrogen(QM8, QM9), avoid calling `GetTotalNumHs`\n",
    "    if not explicit_H:\n",
    "        results = results + one_of_k_encoding_unk(atom.GetTotalNumHs(),\n",
    "                                                      [0, 1, 2, 3, 4])   # 26+5=31\n",
    "    if use_chirality:\n",
    "        try:\n",
    "            results = results + one_of_k_encoding_unk(\n",
    "                    atom.GetProp('_CIPCode'),\n",
    "                    ['R', 'S']) + [atom.HasProp('_ChiralityPossible')]\n",
    "        except:\n",
    "            results = results + [False, False] + [atom.HasProp('_ChiralityPossible')]  # 31+3 =34\n",
    "    return results\n",
    "\n",
    "\n",
    "def adjacent_matrix(mol):\n",
    "    adjacency = Chem.GetAdjacencyMatrix(mol)\n",
    "    return np.array(adjacency)\n",
    "\n",
    "\n",
    "def mol_features(smiles):\n",
    "    try:\n",
    "        mol = Chem.MolFromSmiles(smiles)\n",
    "    except:\n",
    "        raise RuntimeError(\"SMILES cannot been parsed!\")\n",
    "    mol = Chem.AddHs(mol)\n",
    "    atom_feat = np.zeros((mol.GetNumAtoms(), num_atom_feat))\n",
    "    for atom in mol.GetAtoms():\n",
    "        atom_feat[atom.GetIdx(), :] = atom_features(atom)\n",
    "    adj_matrix = adjacent_matrix(mol)\n",
    "    return atom_feat, adj_matrix\n",
    "\n",
    "def load_tensor(file_name, dtype):\n",
    "    return [dtype(d).to(device) for d in file_name]\n"
   ]
  },
  {
   "cell_type": "code",
   "execution_count": null,
   "metadata": {},
   "outputs": [],
   "source": [
    "from word2vec import seq_to_kmers, get_protein_embedding\n",
    "from gensim.models import Word2Vec\n",
    "import torch\n",
    "import os\n",
    "\n",
    "\"\"\"CPU or GPU\"\"\"\n",
    "if torch.cuda.is_available():\n",
    "    device = torch.device('cuda:0')\n",
    "    print('The code uses GPU...')\n",
    "else:\n",
    "    device = torch.device('cpu')\n",
    "    print('The code uses CPU!!!')\n",
    "\n",
    "compounds, adjacencies,proteins,interactions = [], [], [], []\n",
    "compound = \"CN(C)CCCC1(c2ccc(F)cc2)OCc2cc(C#N)ccc21\"\n",
    "atom_feature ,adj = mol_features(compound)\n",
    "compounds.append(atom_feature)\n",
    "adjacencies.append(adj)\n",
    "adjacencies = np.array(adjacencies)\n",
    "\n",
    "\n",
    "compounds = load_tensor(compounds, torch.FloatTensor)\n",
    "adjacencies = load_tensor(adjacencies.astype(np.float32), torch.FloatTensor)\n",
    "proteins = load_tensor(proteins, torch.FloatTensor)\n",
    "interactions = load_tensor(interactions, torch.LongTensor)\n"
   ]
  },
  {
   "cell_type": "code",
   "execution_count": null,
   "metadata": {},
   "outputs": [],
   "source": [
    "\n",
    "\"\"\" create model ,trainer and tester \"\"\"\n",
    "protein_dim = 100\n",
    "atom_dim = 34\n",
    "hid_dim = 64\n",
    "n_layers = 4\n",
    "n_heads = 8\n",
    "pf_dim = 256\n",
    "dropout = 0.1\n",
    "batch = 64\n",
    "lr = 1e-4\n",
    "weight_decay = 1e-4\n",
    "decay_interval = 5\n",
    "lr_decay = 1.0\n",
    "iteration = 100\n",
    "kernel_size = 7\n",
    "\n",
    "encoder = Encoder(protein_dim, hid_dim, n_layers, kernel_size, dropout, device)\n",
    "decoder = Decoder(atom_dim, hid_dim, n_layers, n_heads, pf_dim, DecoderLayer, SelfAttention, PositionwiseFeedforward, dropout, device)\n",
    "model = Predictor(encoder, decoder, device)\n",
    "model.load_state_dict(torch.load(\"lr=1e-4,dropout=0.1,weight_decay=1e-4,kernel=7,n_layer=4,batch=64\",map_location = lambda storage,loc:storage))\n",
    "model.to(device)"
   ]
  },
  {
   "cell_type": "code",
   "execution_count": null,
   "metadata": {},
   "outputs": [],
   "source": [
    "with torch.no_grad():\n",
    "    model.eval()\n",
    "    for data in dataset:\n",
    "        predicted_scores,norm,trg,sum = model(data, train=False)\n",
    "predicted_scores,norm"
   ]
  },
  {
   "cell_type": "markdown",
   "metadata": {},
   "source": [
    "# Calculate Cosine Similarity"
   ]
  },
  {
   "cell_type": "code",
   "execution_count": 101,
   "metadata": {},
   "outputs": [],
   "source": [
    "sum = sum.reshape(-1).numpy()\n",
    "trg = trg.numpy()"
   ]
  },
  {
   "cell_type": "code",
   "execution_count": null,
   "metadata": {},
   "outputs": [],
   "source": [
    "similarity = np.zeros(trg.shape[0])\n",
    "for i in range(trg.shape[0]):\n",
    "    candidate = trg[i,:]\n",
    "    similarity[i] = np.dot(candidate,sum)/(np.linalg.norm(candidate)*(np.linalg.norm(sum)))\n",
    "print(similarity)\n"
   ]
  },
  {
   "cell_type": "code",
   "execution_count": 103,
   "metadata": {},
   "outputs": [
    {
     "data": {
      "text/plain": [
       "array([ 1,  7, 18, 20,  3,  4, 16, 15, 14, 19,  5, 10,  8,  6,  9, 12, 11,\n",
       "        2, 17,  0, 13], dtype=int64)"
      ]
     },
     "execution_count": 103,
     "metadata": {},
     "output_type": "execute_result"
    }
   ],
   "source": [
    "np.argsort(-similarity[:21])"
   ]
  },
  {
   "cell_type": "code",
   "execution_count": null,
   "metadata": {},
   "outputs": [],
   "source": [
    "from rdkit.Chem import PyMol\n",
    "from rdkit import Chem\n",
    "import sys\n",
    "from IPython.display import SVG\n",
    "from rdkit import rdBase\n",
    "from rdkit.Chem import AllChem, DataStructs\n",
    "from rdkit.Chem.Draw import DrawMorganBit, DrawMorganBits,DrawMorganEnv, IPythonConsole\n",
    "mol_1='COc1ccc(CN(CCN(C)C)c2ccccn2)cc1'\n",
    "mol = Chem.MolFromSmiles(mol_1)\n",
    "mol"
   ]
  },
  {
   "cell_type": "code",
   "execution_count": 94,
   "metadata": {},
   "outputs": [],
   "source": [
    "def add_atom_index(mol):\n",
    "    atoms = mol.GetNumAtoms()\n",
    "    for i in range( atoms ):\n",
    "        mol.GetAtomWithIdx(i).SetProp(\n",
    "            'molAtomMapNumber', str(mol.GetAtomWithIdx(i).GetIdx()))\n",
    "    return mol,atoms"
   ]
  },
  {
   "cell_type": "code",
   "execution_count": null,
   "metadata": {
    "scrolled": true
   },
   "outputs": [],
   "source": [
    "from rdkit.Chem import Draw\n",
    "mols = []\n",
    "mol,atoms = add_atom_index(mol)\n",
    "print(atoms)\n",
    "mol\n",
    "#img = Draw.MolsToGridImage(mols, molsPerRow=1,subImgSize=(1200, 1200))\n",
    "#img.save(\"negative-1.png\")"
   ]
  }
 ],
 "metadata": {
  "kernelspec": {
   "display_name": "Python 3",
   "language": "python",
   "name": "python3"
  },
  "language_info": {
   "codemirror_mode": {
    "name": "ipython",
    "version": 3
   },
   "file_extension": ".py",
   "mimetype": "text/x-python",
   "name": "python",
   "nbconvert_exporter": "python",
   "pygments_lexer": "ipython3",
   "version": "3.8.18"
  }
 },
 "nbformat": 4,
 "nbformat_minor": 2
}
